{
 "cells": [
  {
   "cell_type": "code",
   "execution_count": 7,
   "metadata": {
    "collapsed": true
   },
   "outputs": [],
   "source": [
    "import random\n",
    "import datetime"
   ]
  },
  {
   "cell_type": "code",
   "execution_count": 8,
   "metadata": {
    "collapsed": true
   },
   "outputs": [],
   "source": [
    "# 9 classes\n",
    "CLASSES = ['1', '2', '3', '4', '5', '6', '7', '8', '9']"
   ]
  },
  {
   "cell_type": "code",
   "execution_count": 9,
   "metadata": {
    "collapsed": true
   },
   "outputs": [],
   "source": [
    "class SynSep :\n",
    "    def __init__(self):\n",
    "        self.noOfFeatures = 400\n",
    "        self.rareWords = [i for i in range (0,120)]\n",
    "        self.commonWords = [i for i in range (120, 400)]\n",
    "        \n",
    "    def createLabel(self):\n",
    "        file = open('SYNSEP.csv', 'w')\n",
    "        \n",
    "        for d in range (0, 1000000):\n",
    "            i = random.randint(1,9)\n",
    "            label_vectors = [0]*self.noOfFeatures\n",
    "            turned_on_bits = random.randint(20,40)\n",
    "            random_sample = random.sample(self.rareWords, turned_on_bits)\n",
    "            for j in range(0, len(self.rareWords)):\n",
    "                if j in random_sample:\n",
    "                    label_vectors[j] = 1\n",
    "            str1 = \",\".join(''.join(str(e) for e in label_vectors))\n",
    "            file.write(str1 + \",\"+str(i)+ \"\\n\" )\n",
    "        file.close()    \n",
    "\n",
    "def main():\n",
    "    synsep = SynSep()\n",
    "    synsep.createLabel()\n",
    "\n",
    "if __name__==\"__main__\":\n",
    "    main()\n",
    "    "
   ]
  },
  {
   "cell_type": "code",
   "execution_count": null,
   "metadata": {
    "collapsed": true
   },
   "outputs": [],
   "source": []
  }
 ],
 "metadata": {
  "kernelspec": {
   "display_name": "Python 3",
   "language": "python",
   "name": "python3"
  },
  "language_info": {
   "codemirror_mode": {
    "name": "ipython",
    "version": 3
   },
   "file_extension": ".py",
   "mimetype": "text/x-python",
   "name": "python",
   "nbconvert_exporter": "python",
   "pygments_lexer": "ipython3",
   "version": "3.6.1"
  }
 },
 "nbformat": 4,
 "nbformat_minor": 2
}

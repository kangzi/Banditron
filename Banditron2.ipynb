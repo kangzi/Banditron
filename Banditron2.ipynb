{
 "cells": [
  {
   "cell_type": "code",
   "execution_count": 11,
   "metadata": {
    "collapsed": true
   },
   "outputs": [],
   "source": [
    "import random\n",
    "import datetime"
   ]
  },
  {
   "cell_type": "code",
   "execution_count": 12,
   "metadata": {
    "collapsed": true
   },
   "outputs": [],
   "source": [
    "SYNSEP_CATEGORY_MAPPING = ['1', '2', '3', '4', '5', '6', '7', '8', '9']"
   ]
  },
  {
   "cell_type": "code",
   "execution_count": 13,
   "metadata": {
    "collapsed": true
   },
   "outputs": [],
   "source": [
    "class Banditron:\n",
    "\n",
    "    def __init__(self):\n",
    "        self.gamma = 0.03\n",
    "        self.dict_length = 400\n",
    "        self.weights = self.init_weights()\n",
    "        self.error_rate = 0.0\n",
    "        self.correct_classified = 0.0\n",
    "        self.incorrect_classified = 0.0\n",
    "        self.number_of_rounds = 0.0\n",
    "\n",
    "    def init_weights(self):\n",
    "        weights = []\n",
    "        for i in range(0,len(SYNSEP_CATEGORY_MAPPING)):\n",
    "            weights.append([0.0] * self.dict_length)\n",
    "        return weights\n",
    "\n",
    "    def update_weights(self, update_matrix):\n",
    "        for i in range(0,len(self.weights)):\n",
    "            for j in range(0,len(self.weights[i])):\n",
    "                self.weights[i][j] += update_matrix[i][j]\n",
    "\n",
    "    def get_update_matrix(self, feature_vectors, calculated_label, predicted_label, true_label, probabilities):\n",
    "        update_matrix = self.init_weights()\n",
    "        for i in range(0,len(update_matrix)):\n",
    "            left = 0.0\n",
    "            right = 0.0\n",
    "            if true_label == predicted_label and predicted_label == i:\n",
    "                left = 1/probabilities[i]\n",
    "            if calculated_label == i:\n",
    "                right = 1.0\n",
    "            for j in range(0,len(feature_vectors)):\n",
    "                update_matrix[i][j] = feature_vectors[j] * (left - right)\n",
    "        return update_matrix\n",
    "\n",
    "    def run(self, feature_vectors, true_label):\n",
    "        self.number_of_rounds += 1.0\n",
    "        calculated_label = self.predict_label(feature_vectors)\n",
    "        probabilities = self.calc_probabilities(calculated_label)\n",
    "        predicted_label = self.random_sample(probabilities)\n",
    "        if true_label == predicted_label:\n",
    "            self.correct_classified += 1.0\n",
    "        else:\n",
    "            self.incorrect_classified += 1.0\n",
    "        self.error_rate = self.incorrect_classified/self.number_of_rounds\n",
    "       \n",
    "        update_matrix = self.get_update_matrix(feature_vectors, calculated_label, predicted_label, true_label, probabilities)\n",
    "        self.update_weights(update_matrix)\n",
    "\n",
    "    def predict_label(self, feature_vectors):\n",
    "        max = 0.0\n",
    "        label = 0\n",
    "        for i in range(0,len(self.weights)):\n",
    "            total = 0.0\n",
    "            for eachVector in range(0,len(feature_vectors)):\n",
    "                total += feature_vectors[eachVector]*self.weights[i][eachVector]\n",
    "            if total >= max:\n",
    "                max = total\n",
    "                label = i\n",
    "        return label\n",
    "\n",
    "    def calc_probabilities(self, calculated_label):\n",
    "        probabilities = [0] * len(self.weights)\n",
    "        for i in range(0,len(probabilities)):\n",
    "            probabilities[i] = self.gamma/len(self.weights)\n",
    "            if i == calculated_label:\n",
    "                probabilities[i] += (1 - self.gamma)\n",
    "        return probabilities\n",
    "\n",
    "    def random_sample(self, probabilities):\n",
    "        number = random.random() * sum(probabilities)\n",
    "        for i in range(0,len(probabilities)):\n",
    "            if number < probabilities[i]:\n",
    "                return i\n",
    "                break\n",
    "            number -= probabilities[i]\n",
    "        return len(probabilities)-1\n"
   ]
  },
  {
   "cell_type": "code",
   "execution_count": 14,
   "metadata": {
    "collapsed": true
   },
   "outputs": [],
   "source": [
    "import csv\n",
    "import matplotlib.pyplot as plt\n",
    "\n",
    "def main():\n",
    "    banditron = Banditron()\n",
    "    error_list = list()\n",
    "    rounds = list()\n",
    "    with open('SYNSEP.csv', newline='') as f:\n",
    "        reader = csv.reader(f)\n",
    "        t=0.0\n",
    "        for line in reader:    \n",
    "            line2 = [float(i) for i in line]\n",
    "            \n",
    "            feature_vector, true_label = line2[:400], int(line2[400])\n",
    "            banditron.run(feature_vector, true_label-1)\n",
    "            if ((t+1)%10000) == 0:\n",
    "                rounds.append(banditron.number_of_rounds)\n",
    "                error_list.append(banditron.error_rate)\n",
    "            t+=1.0\n",
    "    print (\"banditron.correct_classified = \", banditron.correct_classified)\n",
    "    print (\"banditron.incorrect_classified = \", banditron.incorrect_classified)\n",
    "    print (\"banditron.error_rate = \", banditron.error_rate)    \n",
    "    plt.plot(rounds, error_list)\n",
    "    plt.show()\n",
    "\n",
    "    "
   ]
  },
  {
   "cell_type": "code",
   "execution_count": 15,
   "metadata": {},
   "outputs": [
    {
     "name": "stdout",
     "output_type": "stream",
     "text": [
      "banditron.correct_classified =  111270.0\n",
      "banditron.incorrect_classified =  888730.0\n",
      "banditron.error_rate =  0.88873\n"
     ]
    },
    {
     "data": {
      "image/png": "[encoded data removed]",
      "text/plain": [
       "<matplotlib.figure.Figure at 0x7f0a286c4b38>"
      ]
     },
     "metadata": {},
     "output_type": "display_data"
    }
   ],
   "source": [
    "if __name__==\"__main__\":\n",
    "    main()"
   ]
  },
  {
   "cell_type": "code",
   "execution_count": null,
   "metadata": {
    "collapsed": true
   },
   "outputs": [],
   "source": []
  }
 ],
 "metadata": {
  "kernelspec": {
   "display_name": "Python 3",
   "language": "python",
   "name": "python3"
  },
  "language_info": {
   "codemirror_mode": {
    "name": "ipython",
    "version": 3
   },
   "file_extension": ".py",
   "mimetype": "text/x-python",
   "name": "python",
   "nbconvert_exporter": "python",
   "pygments_lexer": "ipython3",
   "version": "3.6.1"
  }
 },
 "nbformat": 4,
 "nbformat_minor": 2
}
